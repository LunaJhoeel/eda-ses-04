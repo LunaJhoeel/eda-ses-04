{
 "cells": [
  {
   "cell_type": "markdown",
   "id": "7911838c",
   "metadata": {},
   "source": [
    "## Sesión 04 - Laboratorio de Suministros"
   ]
  },
  {
   "cell_type": "markdown",
   "id": "bdc55215",
   "metadata": {},
   "source": [
    "Primero importamos las librerías necesarias para el Análisis de Datos Exploratorio (EDA). Las versiones de estas librerías se encuentran en el archivo requirements.txt que se recomienda instalar con pip"
   ]
  },
  {
   "cell_type": "code",
   "execution_count": null,
   "id": "87455fb3-91b7-4c66-8368-b4c7687e3c48",
   "metadata": {},
   "outputs": [],
   "source": [
    "import numpy as np\n",
    "import pandas as pd\n",
    "import matplotlib.pyplot as plt\n",
    "import seaborn as sns\n",
    "from scipy.stats import zscore"
   ]
  },
  {
   "cell_type": "markdown",
   "id": "d8fbea34",
   "metadata": {},
   "source": [
    "Abrimos el archivo en un dataframe como .parquet porque conserva el tipo de dato a diferencia de .csv que convierte todo a string."
   ]
  },
  {
   "cell_type": "code",
   "execution_count": 2,
   "id": "f5694d28-6b99-4bf7-897b-f53d24b8054b",
   "metadata": {},
   "outputs": [],
   "source": [
    "df_suministro = pd.read_parquet(\"suministros.parquet\")"
   ]
  },
  {
   "cell_type": "markdown",
   "id": "7cde78da",
   "metadata": {},
   "source": [
    "La notebook permite visualizar tanto la cabecera como la cola del dataframe como se observa a continuación"
   ]
  },
  {
   "cell_type": "code",
   "execution_count": 3,
   "id": "18a00f37-1ea2-44f6-95dd-b71db00e499f",
   "metadata": {},
   "outputs": [
    {
     "data": {
      "text/html": [
       "<div>\n",
       "<style scoped>\n",
       "    .dataframe tbody tr th:only-of-type {\n",
       "        vertical-align: middle;\n",
       "    }\n",
       "\n",
       "    .dataframe tbody tr th {\n",
       "        vertical-align: top;\n",
       "    }\n",
       "\n",
       "    .dataframe thead th {\n",
       "        text-align: right;\n",
       "    }\n",
       "</style>\n",
       "<table border=\"1\" class=\"dataframe\">\n",
       "  <thead>\n",
       "    <tr style=\"text-align: right;\">\n",
       "      <th></th>\n",
       "      <th>DEPARTAMENTO</th>\n",
       "      <th>NRO_SERVICIO</th>\n",
       "      <th>TIPO_TARIFARIO</th>\n",
       "      <th>CONEXION</th>\n",
       "      <th>COORDENADA_X</th>\n",
       "      <th>COORDENADA_Y</th>\n",
       "      <th>consumo_201001</th>\n",
       "      <th>consumo_201002</th>\n",
       "      <th>consumo_201003</th>\n",
       "      <th>consumo_201004</th>\n",
       "      <th>...</th>\n",
       "      <th>consumo_202110</th>\n",
       "      <th>consumo_202111</th>\n",
       "      <th>consumo_202112</th>\n",
       "      <th>consumo_202201</th>\n",
       "      <th>consumo_202202</th>\n",
       "      <th>consumo_202203</th>\n",
       "      <th>consumo_202204</th>\n",
       "      <th>consumo_202205</th>\n",
       "      <th>consumo_202206</th>\n",
       "      <th>consumo_202207</th>\n",
       "    </tr>\n",
       "  </thead>\n",
       "  <tbody>\n",
       "    <tr>\n",
       "      <th>0</th>\n",
       "      <td>La Libertad</td>\n",
       "      <td>63435012.0</td>\n",
       "      <td>BT5BR</td>\n",
       "      <td>MONOFÁSICO</td>\n",
       "      <td>-78.976071</td>\n",
       "      <td>-8.062080</td>\n",
       "      <td>NaN</td>\n",
       "      <td>NaN</td>\n",
       "      <td>NaN</td>\n",
       "      <td>NaN</td>\n",
       "      <td>...</td>\n",
       "      <td>14.0</td>\n",
       "      <td>14.0</td>\n",
       "      <td>14.0</td>\n",
       "      <td>16.0</td>\n",
       "      <td>14.0</td>\n",
       "      <td>15.0</td>\n",
       "      <td>14.0</td>\n",
       "      <td>15.0</td>\n",
       "      <td>15.0</td>\n",
       "      <td>14.0</td>\n",
       "    </tr>\n",
       "    <tr>\n",
       "      <th>1</th>\n",
       "      <td>La Libertad</td>\n",
       "      <td>63448244.0</td>\n",
       "      <td>BT5BR</td>\n",
       "      <td>MONOFÁSICO</td>\n",
       "      <td>-79.004644</td>\n",
       "      <td>-8.065706</td>\n",
       "      <td>NaN</td>\n",
       "      <td>NaN</td>\n",
       "      <td>NaN</td>\n",
       "      <td>NaN</td>\n",
       "      <td>...</td>\n",
       "      <td>8.0</td>\n",
       "      <td>7.0</td>\n",
       "      <td>10.0</td>\n",
       "      <td>7.0</td>\n",
       "      <td>6.0</td>\n",
       "      <td>8.0</td>\n",
       "      <td>9.0</td>\n",
       "      <td>10.0</td>\n",
       "      <td>13.0</td>\n",
       "      <td>13.0</td>\n",
       "    </tr>\n",
       "    <tr>\n",
       "      <th>2</th>\n",
       "      <td>La Libertad</td>\n",
       "      <td>66916519.0</td>\n",
       "      <td>BT5B</td>\n",
       "      <td>TRIFÁSICO</td>\n",
       "      <td>-79.060620</td>\n",
       "      <td>-8.043771</td>\n",
       "      <td>NaN</td>\n",
       "      <td>NaN</td>\n",
       "      <td>NaN</td>\n",
       "      <td>NaN</td>\n",
       "      <td>...</td>\n",
       "      <td>75.0</td>\n",
       "      <td>58.0</td>\n",
       "      <td>50.0</td>\n",
       "      <td>93.0</td>\n",
       "      <td>213.0</td>\n",
       "      <td>90.0</td>\n",
       "      <td>172.0</td>\n",
       "      <td>102.0</td>\n",
       "      <td>1.0</td>\n",
       "      <td>46.0</td>\n",
       "    </tr>\n",
       "    <tr>\n",
       "      <th>3</th>\n",
       "      <td>La Libertad</td>\n",
       "      <td>63190967.0</td>\n",
       "      <td>BT5BR</td>\n",
       "      <td>MONOFÁSICO</td>\n",
       "      <td>-79.069450</td>\n",
       "      <td>-8.020960</td>\n",
       "      <td>NaN</td>\n",
       "      <td>NaN</td>\n",
       "      <td>NaN</td>\n",
       "      <td>NaN</td>\n",
       "      <td>...</td>\n",
       "      <td>21.0</td>\n",
       "      <td>21.0</td>\n",
       "      <td>27.0</td>\n",
       "      <td>26.0</td>\n",
       "      <td>29.0</td>\n",
       "      <td>39.0</td>\n",
       "      <td>39.0</td>\n",
       "      <td>37.0</td>\n",
       "      <td>28.0</td>\n",
       "      <td>NaN</td>\n",
       "    </tr>\n",
       "    <tr>\n",
       "      <th>4</th>\n",
       "      <td>La Libertad</td>\n",
       "      <td>63195749.0</td>\n",
       "      <td>BT5BR</td>\n",
       "      <td>MONOFÁSICO</td>\n",
       "      <td>-78.975008</td>\n",
       "      <td>-8.062605</td>\n",
       "      <td>NaN</td>\n",
       "      <td>NaN</td>\n",
       "      <td>NaN</td>\n",
       "      <td>NaN</td>\n",
       "      <td>...</td>\n",
       "      <td>4.0</td>\n",
       "      <td>3.0</td>\n",
       "      <td>3.0</td>\n",
       "      <td>4.0</td>\n",
       "      <td>3.0</td>\n",
       "      <td>NaN</td>\n",
       "      <td>1.0</td>\n",
       "      <td>2.0</td>\n",
       "      <td>27.0</td>\n",
       "      <td>36.0</td>\n",
       "    </tr>\n",
       "    <tr>\n",
       "      <th>...</th>\n",
       "      <td>...</td>\n",
       "      <td>...</td>\n",
       "      <td>...</td>\n",
       "      <td>...</td>\n",
       "      <td>...</td>\n",
       "      <td>...</td>\n",
       "      <td>...</td>\n",
       "      <td>...</td>\n",
       "      <td>...</td>\n",
       "      <td>...</td>\n",
       "      <td>...</td>\n",
       "      <td>...</td>\n",
       "      <td>...</td>\n",
       "      <td>...</td>\n",
       "      <td>...</td>\n",
       "      <td>...</td>\n",
       "      <td>...</td>\n",
       "      <td>...</td>\n",
       "      <td>...</td>\n",
       "      <td>...</td>\n",
       "      <td>...</td>\n",
       "    </tr>\n",
       "    <tr>\n",
       "      <th>63731</th>\n",
       "      <td>La Libertad</td>\n",
       "      <td>66890557.0</td>\n",
       "      <td>BT5BR</td>\n",
       "      <td>MONOFÁSICO</td>\n",
       "      <td>-79.007886</td>\n",
       "      <td>-8.072484</td>\n",
       "      <td>NaN</td>\n",
       "      <td>NaN</td>\n",
       "      <td>NaN</td>\n",
       "      <td>NaN</td>\n",
       "      <td>...</td>\n",
       "      <td>165.0</td>\n",
       "      <td>129.0</td>\n",
       "      <td>127.0</td>\n",
       "      <td>108.0</td>\n",
       "      <td>65.0</td>\n",
       "      <td>103.0</td>\n",
       "      <td>67.0</td>\n",
       "      <td>126.0</td>\n",
       "      <td>120.0</td>\n",
       "      <td>139.0</td>\n",
       "    </tr>\n",
       "    <tr>\n",
       "      <th>63732</th>\n",
       "      <td>La Libertad</td>\n",
       "      <td>64601931.0</td>\n",
       "      <td>BT5BR</td>\n",
       "      <td>MONOFÁSICO</td>\n",
       "      <td>-79.005980</td>\n",
       "      <td>-8.063865</td>\n",
       "      <td>NaN</td>\n",
       "      <td>NaN</td>\n",
       "      <td>NaN</td>\n",
       "      <td>NaN</td>\n",
       "      <td>...</td>\n",
       "      <td>40.0</td>\n",
       "      <td>13.0</td>\n",
       "      <td>9.0</td>\n",
       "      <td>8.0</td>\n",
       "      <td>41.0</td>\n",
       "      <td>NaN</td>\n",
       "      <td>NaN</td>\n",
       "      <td>NaN</td>\n",
       "      <td>NaN</td>\n",
       "      <td>NaN</td>\n",
       "    </tr>\n",
       "    <tr>\n",
       "      <th>63733</th>\n",
       "      <td>La Libertad</td>\n",
       "      <td>64625808.0</td>\n",
       "      <td>BT5BR</td>\n",
       "      <td>MONOFÁSICO</td>\n",
       "      <td>-78.997961</td>\n",
       "      <td>-8.081444</td>\n",
       "      <td>NaN</td>\n",
       "      <td>NaN</td>\n",
       "      <td>NaN</td>\n",
       "      <td>NaN</td>\n",
       "      <td>...</td>\n",
       "      <td>37.0</td>\n",
       "      <td>44.0</td>\n",
       "      <td>34.0</td>\n",
       "      <td>47.0</td>\n",
       "      <td>39.0</td>\n",
       "      <td>80.0</td>\n",
       "      <td>42.0</td>\n",
       "      <td>45.0</td>\n",
       "      <td>39.0</td>\n",
       "      <td>30.0</td>\n",
       "    </tr>\n",
       "    <tr>\n",
       "      <th>63734</th>\n",
       "      <td>La Libertad</td>\n",
       "      <td>64667281.0</td>\n",
       "      <td>BT5BR</td>\n",
       "      <td>MONOFÁSICO</td>\n",
       "      <td>-78.977805</td>\n",
       "      <td>-8.063977</td>\n",
       "      <td>NaN</td>\n",
       "      <td>NaN</td>\n",
       "      <td>NaN</td>\n",
       "      <td>NaN</td>\n",
       "      <td>...</td>\n",
       "      <td>74.0</td>\n",
       "      <td>84.0</td>\n",
       "      <td>88.0</td>\n",
       "      <td>95.0</td>\n",
       "      <td>86.0</td>\n",
       "      <td>91.0</td>\n",
       "      <td>82.0</td>\n",
       "      <td>74.0</td>\n",
       "      <td>58.0</td>\n",
       "      <td>61.0</td>\n",
       "    </tr>\n",
       "    <tr>\n",
       "      <th>63735</th>\n",
       "      <td>La Libertad</td>\n",
       "      <td>64703735.0</td>\n",
       "      <td>BT5BR</td>\n",
       "      <td>MONOFÁSICO</td>\n",
       "      <td>-79.011022</td>\n",
       "      <td>-8.051622</td>\n",
       "      <td>NaN</td>\n",
       "      <td>NaN</td>\n",
       "      <td>NaN</td>\n",
       "      <td>NaN</td>\n",
       "      <td>...</td>\n",
       "      <td>77.0</td>\n",
       "      <td>80.0</td>\n",
       "      <td>76.0</td>\n",
       "      <td>76.0</td>\n",
       "      <td>53.0</td>\n",
       "      <td>76.0</td>\n",
       "      <td>74.0</td>\n",
       "      <td>76.0</td>\n",
       "      <td>73.0</td>\n",
       "      <td>75.0</td>\n",
       "    </tr>\n",
       "  </tbody>\n",
       "</table>\n",
       "<p>63736 rows × 157 columns</p>\n",
       "</div>"
      ],
      "text/plain": [
       "      DEPARTAMENTO  NRO_SERVICIO TIPO_TARIFARIO    CONEXION  COORDENADA_X  \\\n",
       "0      La Libertad    63435012.0          BT5BR  MONOFÁSICO    -78.976071   \n",
       "1      La Libertad    63448244.0          BT5BR  MONOFÁSICO    -79.004644   \n",
       "2      La Libertad    66916519.0           BT5B   TRIFÁSICO    -79.060620   \n",
       "3      La Libertad    63190967.0          BT5BR  MONOFÁSICO    -79.069450   \n",
       "4      La Libertad    63195749.0          BT5BR  MONOFÁSICO    -78.975008   \n",
       "...            ...           ...            ...         ...           ...   \n",
       "63731  La Libertad    66890557.0          BT5BR  MONOFÁSICO    -79.007886   \n",
       "63732  La Libertad    64601931.0          BT5BR  MONOFÁSICO    -79.005980   \n",
       "63733  La Libertad    64625808.0          BT5BR  MONOFÁSICO    -78.997961   \n",
       "63734  La Libertad    64667281.0          BT5BR  MONOFÁSICO    -78.977805   \n",
       "63735  La Libertad    64703735.0          BT5BR  MONOFÁSICO    -79.011022   \n",
       "\n",
       "       COORDENADA_Y  consumo_201001  consumo_201002  consumo_201003  \\\n",
       "0         -8.062080             NaN             NaN             NaN   \n",
       "1         -8.065706             NaN             NaN             NaN   \n",
       "2         -8.043771             NaN             NaN             NaN   \n",
       "3         -8.020960             NaN             NaN             NaN   \n",
       "4         -8.062605             NaN             NaN             NaN   \n",
       "...             ...             ...             ...             ...   \n",
       "63731     -8.072484             NaN             NaN             NaN   \n",
       "63732     -8.063865             NaN             NaN             NaN   \n",
       "63733     -8.081444             NaN             NaN             NaN   \n",
       "63734     -8.063977             NaN             NaN             NaN   \n",
       "63735     -8.051622             NaN             NaN             NaN   \n",
       "\n",
       "       consumo_201004  ...  consumo_202110  consumo_202111  consumo_202112  \\\n",
       "0                 NaN  ...            14.0            14.0            14.0   \n",
       "1                 NaN  ...             8.0             7.0            10.0   \n",
       "2                 NaN  ...            75.0            58.0            50.0   \n",
       "3                 NaN  ...            21.0            21.0            27.0   \n",
       "4                 NaN  ...             4.0             3.0             3.0   \n",
       "...               ...  ...             ...             ...             ...   \n",
       "63731             NaN  ...           165.0           129.0           127.0   \n",
       "63732             NaN  ...            40.0            13.0             9.0   \n",
       "63733             NaN  ...            37.0            44.0            34.0   \n",
       "63734             NaN  ...            74.0            84.0            88.0   \n",
       "63735             NaN  ...            77.0            80.0            76.0   \n",
       "\n",
       "       consumo_202201  consumo_202202  consumo_202203  consumo_202204  \\\n",
       "0                16.0            14.0            15.0            14.0   \n",
       "1                 7.0             6.0             8.0             9.0   \n",
       "2                93.0           213.0            90.0           172.0   \n",
       "3                26.0            29.0            39.0            39.0   \n",
       "4                 4.0             3.0             NaN             1.0   \n",
       "...               ...             ...             ...             ...   \n",
       "63731           108.0            65.0           103.0            67.0   \n",
       "63732             8.0            41.0             NaN             NaN   \n",
       "63733            47.0            39.0            80.0            42.0   \n",
       "63734            95.0            86.0            91.0            82.0   \n",
       "63735            76.0            53.0            76.0            74.0   \n",
       "\n",
       "       consumo_202205  consumo_202206  consumo_202207  \n",
       "0                15.0            15.0            14.0  \n",
       "1                10.0            13.0            13.0  \n",
       "2               102.0             1.0            46.0  \n",
       "3                37.0            28.0             NaN  \n",
       "4                 2.0            27.0            36.0  \n",
       "...               ...             ...             ...  \n",
       "63731           126.0           120.0           139.0  \n",
       "63732             NaN             NaN             NaN  \n",
       "63733            45.0            39.0            30.0  \n",
       "63734            74.0            58.0            61.0  \n",
       "63735            76.0            73.0            75.0  \n",
       "\n",
       "[63736 rows x 157 columns]"
      ]
     },
     "execution_count": 3,
     "metadata": {},
     "output_type": "execute_result"
    }
   ],
   "source": [
    "df_suministro"
   ]
  },
  {
   "cell_type": "markdown",
   "id": "18901341",
   "metadata": {},
   "source": [
    "Revisamos de que no existan clientes duplicados"
   ]
  },
  {
   "cell_type": "code",
   "execution_count": 4,
   "id": "6e2e5456",
   "metadata": {},
   "outputs": [
    {
     "data": {
      "text/html": [
       "<div>\n",
       "<style scoped>\n",
       "    .dataframe tbody tr th:only-of-type {\n",
       "        vertical-align: middle;\n",
       "    }\n",
       "\n",
       "    .dataframe tbody tr th {\n",
       "        vertical-align: top;\n",
       "    }\n",
       "\n",
       "    .dataframe thead th {\n",
       "        text-align: right;\n",
       "    }\n",
       "</style>\n",
       "<table border=\"1\" class=\"dataframe\">\n",
       "  <thead>\n",
       "    <tr style=\"text-align: right;\">\n",
       "      <th></th>\n",
       "      <th>DEPARTAMENTO</th>\n",
       "      <th>NRO_SERVICIO</th>\n",
       "      <th>TIPO_TARIFARIO</th>\n",
       "      <th>CONEXION</th>\n",
       "      <th>COORDENADA_X</th>\n",
       "      <th>COORDENADA_Y</th>\n",
       "      <th>consumo_201001</th>\n",
       "      <th>consumo_201002</th>\n",
       "      <th>consumo_201003</th>\n",
       "      <th>consumo_201004</th>\n",
       "      <th>...</th>\n",
       "      <th>consumo_202110</th>\n",
       "      <th>consumo_202111</th>\n",
       "      <th>consumo_202112</th>\n",
       "      <th>consumo_202201</th>\n",
       "      <th>consumo_202202</th>\n",
       "      <th>consumo_202203</th>\n",
       "      <th>consumo_202204</th>\n",
       "      <th>consumo_202205</th>\n",
       "      <th>consumo_202206</th>\n",
       "      <th>consumo_202207</th>\n",
       "    </tr>\n",
       "  </thead>\n",
       "  <tbody>\n",
       "  </tbody>\n",
       "</table>\n",
       "<p>0 rows × 157 columns</p>\n",
       "</div>"
      ],
      "text/plain": [
       "Empty DataFrame\n",
       "Columns: [DEPARTAMENTO, NRO_SERVICIO, TIPO_TARIFARIO, CONEXION, COORDENADA_X, COORDENADA_Y, consumo_201001, consumo_201002, consumo_201003, consumo_201004, consumo_201005, consumo_201006, consumo_201007, consumo_201008, consumo_201009, consumo_201010, consumo_201011, consumo_201012, consumo_201101, consumo_201102, consumo_201103, consumo_201104, consumo_201105, consumo_201106, consumo_201107, consumo_201108, consumo_201109, consumo_201110, consumo_201111, consumo_201112, consumo_201201, consumo_201202, consumo_201203, consumo_201204, consumo_201205, consumo_201206, consumo_201207, consumo_201208, consumo_201209, consumo_201210, consumo_201211, consumo_201212, consumo_201301, consumo_201302, consumo_201303, consumo_201304, consumo_201305, consumo_201306, consumo_201307, consumo_201308, consumo_201309, consumo_201310, consumo_201311, consumo_201312, consumo_201401, consumo_201402, consumo_201403, consumo_201404, consumo_201405, consumo_201406, consumo_201407, consumo_201408, consumo_201409, consumo_201410, consumo_201411, consumo_201412, consumo_201501, consumo_201502, consumo_201503, consumo_201504, consumo_201505, consumo_201506, consumo_201507, consumo_201508, consumo_201509, consumo_201510, consumo_201511, consumo_201512, consumo_201601, consumo_201602, consumo_201603, consumo_201604, consumo_201605, consumo_201606, consumo_201607, consumo_201608, consumo_201609, consumo_201610, consumo_201611, consumo_201612, consumo_201701, consumo_201702, consumo_201703, consumo_201704, consumo_201705, consumo_201706, consumo_201707, consumo_201708, consumo_201709, consumo_201710, ...]\n",
       "Index: []\n",
       "\n",
       "[0 rows x 157 columns]"
      ]
     },
     "execution_count": 4,
     "metadata": {},
     "output_type": "execute_result"
    }
   ],
   "source": [
    "df_suministro[df_suministro.duplicated(subset='NRO_SERVICIO', keep=False)]\n"
   ]
  },
  {
   "cell_type": "markdown",
   "id": "40620686",
   "metadata": {},
   "source": [
    "Se observa de que no existen suministros duplicados en función del número de servicio"
   ]
  },
  {
   "cell_type": "code",
   "execution_count": 5,
   "id": "2bef8c48",
   "metadata": {},
   "outputs": [
    {
     "name": "stdout",
     "output_type": "stream",
     "text": [
      "<class 'pandas.core.frame.DataFrame'>\n",
      "RangeIndex: 63736 entries, 0 to 63735\n",
      "Columns: 157 entries, DEPARTAMENTO to consumo_202207\n",
      "dtypes: float64(154), object(3)\n",
      "memory usage: 76.3+ MB\n"
     ]
    }
   ],
   "source": [
    "df_suministro.info()"
   ]
  },
  {
   "cell_type": "markdown",
   "id": "8e80984f",
   "metadata": {},
   "source": [
    "Existe un total de 157 columnas donde 154 tienen valores decimales y 3 son cadenas de caracteres, con más de 63 mil filas y el dataframe fue cargado usando 76.3 MB"
   ]
  },
  {
   "cell_type": "code",
   "execution_count": 6,
   "id": "98451efc-5255-492c-b265-f3d199bc82f4",
   "metadata": {},
   "outputs": [],
   "source": [
    "#df_suministro.to_csv(\"suministros.csv\", sep=';', index=False)  # código para transformar a CSV"
   ]
  },
  {
   "cell_type": "markdown",
   "id": "60e3b85a",
   "metadata": {},
   "source": [
    "Revisamos los nombres de las columnas accediendo a la propiedad de la clase DataFrame para tener mayor entendimiento de la data puesto que no se cuenta con un archivo de metadatos"
   ]
  },
  {
   "cell_type": "code",
   "execution_count": 7,
   "id": "1becae3a-f0f0-42d7-9b1d-55d646915eb8",
   "metadata": {
    "scrolled": true
   },
   "outputs": [
    {
     "name": "stdout",
     "output_type": "stream",
     "text": [
      "Index(['DEPARTAMENTO', 'NRO_SERVICIO', 'TIPO_TARIFARIO', 'CONEXION',\n",
      "       'COORDENADA_X', 'COORDENADA_Y', 'consumo_201001', 'consumo_201002',\n",
      "       'consumo_201003', 'consumo_201004',\n",
      "       ...\n",
      "       'consumo_202110', 'consumo_202111', 'consumo_202112', 'consumo_202201',\n",
      "       'consumo_202202', 'consumo_202203', 'consumo_202204', 'consumo_202205',\n",
      "       'consumo_202206', 'consumo_202207'],\n",
      "      dtype='object', length=157)\n"
     ]
    }
   ],
   "source": [
    "print(df_suministro.columns)"
   ]
  },
  {
   "cell_type": "markdown",
   "id": "0a4f0903",
   "metadata": {},
   "source": [
    "Revisamos la cantidad de valores nulos"
   ]
  },
  {
   "cell_type": "code",
   "execution_count": 8,
   "id": "376ff122-8773-48cf-93a1-b8834883abaf",
   "metadata": {},
   "outputs": [
    {
     "data": {
      "text/plain": [
       "DEPARTAMENTO         0\n",
       "NRO_SERVICIO         0\n",
       "TIPO_TARIFARIO       0\n",
       "CONEXION             0\n",
       "COORDENADA_X       503\n",
       "                  ... \n",
       "consumo_202203    6391\n",
       "consumo_202204    6315\n",
       "consumo_202205    6219\n",
       "consumo_202206    6255\n",
       "consumo_202207    6269\n",
       "Length: 157, dtype: int64"
      ]
     },
     "execution_count": 8,
     "metadata": {},
     "output_type": "execute_result"
    }
   ],
   "source": [
    "df_suministro.isnull().sum()"
   ]
  },
  {
   "cell_type": "markdown",
   "id": "94c41fc8",
   "metadata": {},
   "source": [
    "Como se logra observar la columna COORDENADA_X y muchas de las columnas de los periodos de consumo tienen valores faltantes, alrededor de 6 mil en el caso de los periodos de consumo. Seguidamente, calcularemos el porcentaje de valores faltante por columna para decidir su tratamiento posterior "
   ]
  },
  {
   "cell_type": "code",
   "execution_count": 9,
   "id": "fca944bb-a729-4bf6-b808-3f73d44df1a4",
   "metadata": {},
   "outputs": [],
   "source": [
    "# Seleccionar solo las columnas de consumo\n",
    "columnas_consumo = [col for col in df_suministro.columns if col.startswith(\"consumo_\")]\n",
    "df_consumo = df_suministro[columnas_consumo].copy()"
   ]
  },
  {
   "cell_type": "code",
   "execution_count": 10,
   "id": "8dd45b2e-0634-4810-89b3-071676e5a69e",
   "metadata": {},
   "outputs": [
    {
     "name": "stdout",
     "output_type": "stream",
     "text": [
      "consumo_201001    45.131480\n",
      "consumo_201002    45.074997\n",
      "consumo_201003    45.048324\n",
      "consumo_201004    45.046755\n",
      "consumo_201005    44.552529\n",
      "                    ...    \n",
      "consumo_202203    10.027300\n",
      "consumo_202204     9.908058\n",
      "consumo_202207     9.835886\n",
      "consumo_202206     9.813920\n",
      "consumo_202205     9.757437\n",
      "Length: 151, dtype: float64\n"
     ]
    }
   ],
   "source": [
    "nulos_porcentaje = df_consumo.isnull().mean() * 100\n",
    "print(nulos_porcentaje.sort_values(ascending=False))"
   ]
  },
  {
   "cell_type": "markdown",
   "id": "f2e523bf",
   "metadata": {},
   "source": [
    "Imputaremos los valores faltantes con la media de cada cliente para conservar el patrón de consumo típico y lo agregaremos por cliente para realizar el análisis"
   ]
  },
  {
   "cell_type": "code",
   "execution_count": 11,
   "id": "33003e21",
   "metadata": {},
   "outputs": [
    {
     "data": {
      "text/html": [
       "<div>\n",
       "<style scoped>\n",
       "    .dataframe tbody tr th:only-of-type {\n",
       "        vertical-align: middle;\n",
       "    }\n",
       "\n",
       "    .dataframe tbody tr th {\n",
       "        vertical-align: top;\n",
       "    }\n",
       "\n",
       "    .dataframe thead th {\n",
       "        text-align: right;\n",
       "    }\n",
       "</style>\n",
       "<table border=\"1\" class=\"dataframe\">\n",
       "  <thead>\n",
       "    <tr style=\"text-align: right;\">\n",
       "      <th></th>\n",
       "      <th>NRO_SERVICIO</th>\n",
       "      <th>consumo_total</th>\n",
       "    </tr>\n",
       "  </thead>\n",
       "  <tbody>\n",
       "    <tr>\n",
       "      <th>0</th>\n",
       "      <td>63435012.0</td>\n",
       "      <td>2222.531250</td>\n",
       "    </tr>\n",
       "    <tr>\n",
       "      <th>1</th>\n",
       "      <td>63448244.0</td>\n",
       "      <td>5966.540541</td>\n",
       "    </tr>\n",
       "    <tr>\n",
       "      <th>2</th>\n",
       "      <td>66916519.0</td>\n",
       "      <td>12105.166667</td>\n",
       "    </tr>\n",
       "    <tr>\n",
       "      <th>3</th>\n",
       "      <td>63190967.0</td>\n",
       "      <td>1699.627907</td>\n",
       "    </tr>\n",
       "    <tr>\n",
       "      <th>4</th>\n",
       "      <td>63195749.0</td>\n",
       "      <td>2015.068966</td>\n",
       "    </tr>\n",
       "    <tr>\n",
       "      <th>...</th>\n",
       "      <td>...</td>\n",
       "      <td>...</td>\n",
       "    </tr>\n",
       "    <tr>\n",
       "      <th>63731</th>\n",
       "      <td>66890557.0</td>\n",
       "      <td>17742.500000</td>\n",
       "    </tr>\n",
       "    <tr>\n",
       "      <th>63732</th>\n",
       "      <td>64601931.0</td>\n",
       "      <td>3473.000000</td>\n",
       "    </tr>\n",
       "    <tr>\n",
       "      <th>63733</th>\n",
       "      <td>64625808.0</td>\n",
       "      <td>6550.523810</td>\n",
       "    </tr>\n",
       "    <tr>\n",
       "      <th>63734</th>\n",
       "      <td>64667281.0</td>\n",
       "      <td>12155.500000</td>\n",
       "    </tr>\n",
       "    <tr>\n",
       "      <th>63735</th>\n",
       "      <td>64703735.0</td>\n",
       "      <td>10760.736842</td>\n",
       "    </tr>\n",
       "  </tbody>\n",
       "</table>\n",
       "<p>63736 rows × 2 columns</p>\n",
       "</div>"
      ],
      "text/plain": [
       "       NRO_SERVICIO  consumo_total\n",
       "0        63435012.0    2222.531250\n",
       "1        63448244.0    5966.540541\n",
       "2        66916519.0   12105.166667\n",
       "3        63190967.0    1699.627907\n",
       "4        63195749.0    2015.068966\n",
       "...             ...            ...\n",
       "63731    66890557.0   17742.500000\n",
       "63732    64601931.0    3473.000000\n",
       "63733    64625808.0    6550.523810\n",
       "63734    64667281.0   12155.500000\n",
       "63735    64703735.0   10760.736842\n",
       "\n",
       "[63736 rows x 2 columns]"
      ]
     },
     "execution_count": 11,
     "metadata": {},
     "output_type": "execute_result"
    }
   ],
   "source": [
    "# Se crea una copia del df\n",
    "df_consumo = df_suministro[['NRO_SERVICIO'] + columnas_consumo].copy()\n",
    "\n",
    "# Se imputan los valores faltantes la media por cliente\n",
    "media_por_cliente = df_consumo[columnas_consumo].mean(axis=1)\n",
    "for columna in columnas_consumo:\n",
    "    df_consumo[columna] = df_consumo[columna].fillna(media_por_cliente)\n",
    "\n",
    "df_consumo = df_consumo.copy()\n",
    "\n",
    "# Se agregan los consumos\n",
    "df_consumo['consumo_total'] = df_consumo[columnas_consumo].sum(axis=1)\n",
    "\n",
    "df_consumo_total = df_consumo[['NRO_SERVICIO','consumo_total']]\n",
    "df_consumo_total"
   ]
  },
  {
   "cell_type": "code",
   "execution_count": null,
   "id": "335cad89",
   "metadata": {},
   "outputs": [
    {
     "data": {
      "text/plain": [
       "count    63736.000000\n",
       "mean        13.547423\n",
       "std         28.581942\n",
       "min          0.000000\n",
       "25%          4.156136\n",
       "50%          8.624852\n",
       "75%         15.067500\n",
       "max       1712.749321\n",
       "Name: consumo_miles, dtype: float64"
      ]
     },
     "execution_count": 12,
     "metadata": {},
     "output_type": "execute_result"
    }
   ],
   "source": [
    "# TODO: utilizar el promedio\n",
    "\n",
    "df_consumo_total_miles = df_consumo_total[['consumo_total']].copy()\n",
    "# Escala el consumo a miles de kWh (MWh)\n",
    "df_consumo_total_miles['consumo_miles'] = df_consumo_total['consumo_total'] / 1000\n",
    "\n",
    "df_consumo_total_miles['consumo_miles'].describe()"
   ]
  },
  {
   "cell_type": "markdown",
   "id": "3250bfc5",
   "metadata": {},
   "source": [
    "De las estadísticas fundamentales, se observa que existen registros mínimos cercanos a cero (incluso en miles) que deben de corresponder a medidores nuevos o de extremadamente bajo consumo y que existen consumos extremos de 1,712 (en miles) de kWh en el periodo de análsis desde enero de 2010 a julio de 2022"
   ]
  },
  {
   "cell_type": "markdown",
   "id": "37fb74ed",
   "metadata": {},
   "source": [
    "A continuación, realizamos de detección de outliers con diferentes técnicas"
   ]
  },
  {
   "cell_type": "code",
   "execution_count": 13,
   "id": "3f8cadbd-780e-4a01-a2ef-39a2f02a0fdc",
   "metadata": {},
   "outputs": [
    {
     "data": {
      "image/png": "[encoded data removed]",
      "text/plain": [
       "<Figure size 600x400 with 1 Axes>"
      ]
     },
     "metadata": {},
     "output_type": "display_data"
    }
   ],
   "source": [
    "########Grafica de Boxplot\n",
    "\n",
    "plt.figure(figsize=(6, 4))\n",
    "plt.boxplot(df_consumo_total_miles['consumo_miles'])\n",
    "plt.title(\"Boxplot - Consumo Total por Cliente (en miles de kWh)\")\n",
    "plt.ylabel(\"Consumo (kWh)\")\n",
    "plt.grid(True)\n",
    "plt.show()\n"
   ]
  },
  {
   "cell_type": "markdown",
   "id": "71c9b6f5",
   "metadata": {},
   "source": [
    "Visualmente, detectamos la presencia de valores extremos, es decir, de outliers o valores atípicos como un registro de casi 1,750 miles de kWh mientras que la mayoría de de puntos se ubican en la pate inferior. A simple vista, la mayor parte de los valores se encuentran concentrados en valores bastante bajos, es decir consumos bajos. POr lo tanto, la distribución está sesgada a la derecha (asimetría positiva)"
   ]
  },
  {
   "cell_type": "code",
   "execution_count": 14,
   "id": "02935242-b322-470a-96dd-fc028671fe94",
   "metadata": {},
   "outputs": [],
   "source": [
    "##################################### Métodos de Detección Outlier ####################"
   ]
  },
  {
   "cell_type": "code",
   "execution_count": 15,
   "id": "e4c57531-691c-40d7-a139-12ad431f88b7",
   "metadata": {},
   "outputs": [
    {
     "data": {
      "text/html": [
       "<div>\n",
       "<style scoped>\n",
       "    .dataframe tbody tr th:only-of-type {\n",
       "        vertical-align: middle;\n",
       "    }\n",
       "\n",
       "    .dataframe tbody tr th {\n",
       "        vertical-align: top;\n",
       "    }\n",
       "\n",
       "    .dataframe thead th {\n",
       "        text-align: right;\n",
       "    }\n",
       "</style>\n",
       "<table border=\"1\" class=\"dataframe\">\n",
       "  <thead>\n",
       "    <tr style=\"text-align: right;\">\n",
       "      <th></th>\n",
       "      <th>consumo_total</th>\n",
       "      <th>consumo_miles</th>\n",
       "      <th>z_score</th>\n",
       "      <th>valor_shifted</th>\n",
       "      <th>diff</th>\n",
       "      <th>mad_score</th>\n",
       "    </tr>\n",
       "  </thead>\n",
       "  <tbody>\n",
       "    <tr>\n",
       "      <th>count</th>\n",
       "      <td>3.887000e+03</td>\n",
       "      <td>3887.000000</td>\n",
       "      <td>3887.000000</td>\n",
       "      <td>3887.000000</td>\n",
       "      <td>3887.000000</td>\n",
       "      <td>3887.000000</td>\n",
       "    </tr>\n",
       "    <tr>\n",
       "      <th>mean</th>\n",
       "      <td>7.619632e+04</td>\n",
       "      <td>76.196316</td>\n",
       "      <td>2.191922</td>\n",
       "      <td>76.196316</td>\n",
       "      <td>67.571465</td>\n",
       "      <td>7.232054</td>\n",
       "    </tr>\n",
       "    <tr>\n",
       "      <th>std</th>\n",
       "      <td>9.196754e+04</td>\n",
       "      <td>91.967536</td>\n",
       "      <td>3.217705</td>\n",
       "      <td>91.967536</td>\n",
       "      <td>91.967536</td>\n",
       "      <td>9.843123</td>\n",
       "    </tr>\n",
       "    <tr>\n",
       "      <th>min</th>\n",
       "      <td>3.143984e+04</td>\n",
       "      <td>31.439844</td>\n",
       "      <td>0.626009</td>\n",
       "      <td>31.439844</td>\n",
       "      <td>22.814992</td>\n",
       "      <td>2.441848</td>\n",
       "    </tr>\n",
       "    <tr>\n",
       "      <th>25%</th>\n",
       "      <td>3.640100e+04</td>\n",
       "      <td>36.401000</td>\n",
       "      <td>0.799587</td>\n",
       "      <td>36.401000</td>\n",
       "      <td>27.776148</td>\n",
       "      <td>2.972832</td>\n",
       "    </tr>\n",
       "    <tr>\n",
       "      <th>50%</th>\n",
       "      <td>4.546881e+04</td>\n",
       "      <td>45.468810</td>\n",
       "      <td>1.116846</td>\n",
       "      <td>45.468810</td>\n",
       "      <td>36.843959</td>\n",
       "      <td>3.943344</td>\n",
       "    </tr>\n",
       "    <tr>\n",
       "      <th>75%</th>\n",
       "      <td>6.949329e+04</td>\n",
       "      <td>69.493287</td>\n",
       "      <td>1.957400</td>\n",
       "      <td>69.493287</td>\n",
       "      <td>60.868435</td>\n",
       "      <td>6.514641</td>\n",
       "    </tr>\n",
       "    <tr>\n",
       "      <th>max</th>\n",
       "      <td>1.712749e+06</td>\n",
       "      <td>1712.749321</td>\n",
       "      <td>59.450656</td>\n",
       "      <td>1712.749321</td>\n",
       "      <td>1704.124470</td>\n",
       "      <td>182.389431</td>\n",
       "    </tr>\n",
       "  </tbody>\n",
       "</table>\n",
       "</div>"
      ],
      "text/plain": [
       "       consumo_total  consumo_miles      z_score  valor_shifted         diff  \\\n",
       "count   3.887000e+03    3887.000000  3887.000000    3887.000000  3887.000000   \n",
       "mean    7.619632e+04      76.196316     2.191922      76.196316    67.571465   \n",
       "std     9.196754e+04      91.967536     3.217705      91.967536    91.967536   \n",
       "min     3.143984e+04      31.439844     0.626009      31.439844    22.814992   \n",
       "25%     3.640100e+04      36.401000     0.799587      36.401000    27.776148   \n",
       "50%     4.546881e+04      45.468810     1.116846      45.468810    36.843959   \n",
       "75%     6.949329e+04      69.493287     1.957400      69.493287    60.868435   \n",
       "max     1.712749e+06    1712.749321    59.450656    1712.749321  1704.124470   \n",
       "\n",
       "         mad_score  \n",
       "count  3887.000000  \n",
       "mean      7.232054  \n",
       "std       9.843123  \n",
       "min       2.441848  \n",
       "25%       2.972832  \n",
       "50%       3.943344  \n",
       "75%       6.514641  \n",
       "max     182.389431  "
      ]
     },
     "execution_count": 15,
     "metadata": {},
     "output_type": "execute_result"
    }
   ],
   "source": [
    "#######   Método IQR #########\n",
    "\n",
    "# Calcular columnas adicionales\n",
    "df_consumo_total_miles['z_score'] = zscore(df_consumo_total_miles['consumo_miles'])\n",
    "df_consumo_total_miles['valor_shifted'] = df_consumo_total_miles['consumo_miles'] - df_consumo_total_miles['consumo_miles'].min()\n",
    "df_consumo_total_miles['diff'] = df_consumo_total_miles['consumo_miles'] - df_consumo_total_miles['consumo_miles'].median()\n",
    "mad = np.mean(np.abs(df_consumo_total_miles['diff']))  # cálculo manual de MAD\n",
    "df_consumo_total_miles['mad_score'] = df_consumo_total_miles['diff'] / mad\n",
    "\n",
    "# Aplicar método IQR\n",
    "Q1 = df_consumo_total_miles['consumo_miles'].quantile(0.25)\n",
    "Q3 = df_consumo_total_miles['consumo_miles'].quantile(0.75)\n",
    "IQR = Q3 - Q1\n",
    "limite_inferior = Q1 - 1.5 * IQR\n",
    "limite_superior = Q3 + 1.5 * IQR\n",
    "\n",
    "# Filtrar los outliers\n",
    "outliers_iqr = df_consumo_total_miles[(df_consumo_total_miles['consumo_miles'] < limite_inferior) | (df_consumo_total_miles['consumo_miles'] > limite_superior)]\n",
    "\n",
    "# Paso 5: Mostrar resumen con todas las métricas\n",
    "outliers_iqr.describe()\n",
    "\n"
   ]
  },
  {
   "cell_type": "markdown",
   "id": "174ad8ad",
   "metadata": {},
   "source": [
    "Tanto z-score (cuantas desviaciones se aleja cada punto de la media) con valores como 59.45 superiores a 3 y mad-score (cuantas desviaciones se aleja cada punto de la mediana) como 182.38 extremadamente superior a 3.5 verifican la presencia de outliers a nivel de números. Se procederá a contar la cantidad de valores atípicos"
   ]
  },
  {
   "cell_type": "code",
   "execution_count": 16,
   "id": "643534bb-eca1-4a74-8beb-64ed84428d1e",
   "metadata": {},
   "outputs": [
    {
     "name": "stdout",
     "output_type": "stream",
     "text": [
      "Resumen de outliers detectados por Z-Score:\n",
      "       consumo_total  consumo_miles     z_score  valor_shifted         diff  \\\n",
      "count   5.990000e+02     599.000000  599.000000     599.000000   599.000000   \n",
      "mean    2.340477e+05     234.047718    7.714732     234.047718   225.422866   \n",
      "std     1.552668e+05     155.266837    5.432383     155.266837   155.266837   \n",
      "min     9.943800e+04      99.438000    3.005088      99.438000    90.813148   \n",
      "25%     1.302914e+05     130.291376    4.084567     130.291376   121.666524   \n",
      "50%     1.853380e+05     185.338043    6.010507     185.338043   176.713191   \n",
      "75%     2.862823e+05     286.282273    9.542283     286.282273   277.657421   \n",
      "max     1.712749e+06    1712.749321   59.450656    1712.749321  1704.124470   \n",
      "\n",
      "        mad_score  \n",
      "count  599.000000  \n",
      "mean    29.677584  \n",
      "std     20.441336  \n",
      "min     11.955818  \n",
      "25%     16.017756  \n",
      "50%     23.264812  \n",
      "75%     36.554417  \n",
      "max    224.353002  \n"
     ]
    }
   ],
   "source": [
    "############## Método Z-Score (estandarización)\n",
    "\n",
    "# calculo de z score\n",
    "df_consumo_total_miles['z_score'] = zscore(df_consumo_total_miles['consumo_miles'])\n",
    "\n",
    "# Calcula la diferencia con la mediana\n",
    "mediana = df_consumo_total_miles['consumo_miles'].median()\n",
    "df_consumo_total_miles['diff'] = df_consumo_total_miles['consumo_miles'] - mediana\n",
    "\n",
    "# Calcula mad_score (z-score robusto)\n",
    "mad = np.median(np.abs(df_consumo_total_miles['diff']))\n",
    "df_consumo_total_miles['mad_score'] = 0.6745 * df_consumo_total_miles['diff'] / mad\n",
    "\n",
    "# Filtra outliers por z-score\n",
    "outliers_z = df_consumo_total_miles[df_consumo_total_miles['z_score'].abs() > 3]\n",
    "\n",
    "print(\"Resumen de outliers detectados por Z-Score:\")\n",
    "print(outliers_z.describe())"
   ]
  },
  {
   "cell_type": "markdown",
   "id": "317ecd54",
   "metadata": {},
   "source": [
    "De esta tabla de valores detectados con Z-score, se observa que hay un total de 599 valores atípicos van desde 99,438 kWh hasta 1,7121749 kWh. Esto quiere decir que hay un segmento que consume electricidad muy por encima por el promedio general de 234,047 kWh en esos 12 años"
   ]
  },
  {
   "cell_type": "code",
   "execution_count": 17,
   "id": "56cdb887-18ee-4bd2-b34e-40d39d2b9547",
   "metadata": {},
   "outputs": [
    {
     "name": "stdout",
     "output_type": "stream",
     "text": [
      "       consumo_miles    mad_score\n",
      "count    3120.000000  3120.000000\n",
      "mean       86.774415    10.288620\n",
      "std        99.851963    13.145805\n",
      "min        35.224000     3.501856\n",
      "25%        41.019184     4.264809\n",
      "50%        51.942500     5.702896\n",
      "75%        80.804250     9.502630\n",
      "max      1712.749321   224.353002\n"
     ]
    }
   ],
   "source": [
    "########################Método MAD (Desviación Absoluta Mediana)\n",
    "\n",
    "# Paso 1: Preparar el DataFrame\n",
    "# Paso 2: Calcular columnas auxiliares\n",
    "df_consumo_total_miles['z_score'] = zscore(df_consumo_total_miles['consumo_miles'])  # z-score\n",
    "df_consumo_total_miles['valor_shifted'] = df_consumo_total_miles['consumo_miles'] - df_consumo_total_miles['consumo_miles'].min()  # valor ajustado\n",
    "df_consumo_total_miles['diff'] = df_consumo_total_miles['consumo_miles'] - df_consumo_total_miles['consumo_miles'].median()  # diferencia con mediana\n",
    "mad = np.median(np.abs(df_consumo_total_miles['consumo_miles'] - df_consumo_total_miles['consumo_miles'].median()))  # MAD robusto\n",
    "# print(mad)\n",
    "df_consumo_total_miles['mad_score'] = 0.6745 * (df_consumo_total_miles['consumo_miles'] - df_consumo_total_miles['consumo_miles'].median()) / mad  # z-score robusto\n",
    "\n",
    "# Paso 3: Filtrar outliers por MAD (> 3.5)\n",
    "outliers_mad = df_consumo_total_miles[np.abs(df_consumo_total_miles['mad_score']) > 3.5]\n",
    "\n",
    "# Paso 4: Mostrar tabla resumen como en la imagen\n",
    "# print(outliers_mad[['consumo_miles', 'z_score', 'valor_shifted', 'diff', 'mad_score']].describe())\n",
    "outliers_mad = df_consumo_total_miles[np.abs(df_consumo_total_miles['mad_score']) > 3.5]\n",
    "print(outliers_mad[['consumo_miles', 'mad_score']].describe())\n",
    "\n"
   ]
  },
  {
   "cell_type": "markdown",
   "id": "e4fd8cec",
   "metadata": {},
   "source": [
    "Con el método Median Absolute Deviation (MAD), se detectaron más valores atípicos que con z score, unos 3,120 clientes con consumos alejados significativamente de la mediana"
   ]
  },
  {
   "cell_type": "code",
   "execution_count": 18,
   "id": "63e64104-6f60-413d-a732-fb72c13fd7cd",
   "metadata": {},
   "outputs": [
    {
     "name": "stdout",
     "output_type": "stream",
     "text": [
      "Outliers detectados con percentiles (1% y 99%):\n",
      "       consumo_miles      z_score  valor_shifted         diff\n",
      "count    1043.000000  1043.000000    1043.000000  1043.000000\n",
      "mean      138.020934     4.355004     138.020934   129.396082\n",
      "std       163.110069     5.706797     163.110069   163.110069\n",
      "min         0.000000    -0.473989       0.000000    -8.624852\n",
      "25%         0.000000    -0.473989       0.000000    -8.624852\n",
      "50%       110.854685     3.404528     110.854685   102.229833\n",
      "75%       204.635837     6.685687     204.635837   196.010985\n",
      "max      1712.749321    59.450656    1712.749321  1704.124470\n"
     ]
    }
   ],
   "source": [
    "########### Método Percentiles extremos\n",
    "\n",
    "# --- Paso 1: Preparar el DataFrame ---\n",
    "# --- Paso 2: Calcular columnas auxiliares ---\n",
    "df_consumo_total_miles['z_score'] = zscore(df_consumo_total_miles['consumo_miles'])  # estandarización\n",
    "df_consumo_total_miles['valor_shifted'] = df_consumo_total_miles['consumo_miles'] - df_consumo_total_miles['consumo_miles'].min()  # valor trasladado\n",
    "df_consumo_total_miles['diff'] = df_consumo_total_miles['consumo_miles'] - df_consumo_total_miles['consumo_miles'].median()  # diferencia con la mediana\n",
    "\n",
    "# --- Paso 3: Calcular límites de percentil 1% y 99% ---\n",
    "limite_inf = df_consumo_total_miles['consumo_miles'].quantile(0.01)\n",
    "limite_sup = df_consumo_total_miles['consumo_miles'].quantile(0.99)\n",
    "\n",
    "# --- Paso 4: Filtrar outliers por percentiles ---\n",
    "outliers_pct = df_consumo_total_miles[(df_consumo_total_miles['consumo_miles'] < limite_inf) | (df_consumo_total_miles['consumo_miles'] > limite_sup)]\n",
    "\n",
    "# --- Paso 5: Mostrar resumen ---\n",
    "print(\"Outliers detectados con percentiles (1% y 99%):\")\n",
    "print(outliers_pct[['consumo_miles', 'z_score', 'valor_shifted', 'diff']].describe())\n"
   ]
  },
  {
   "cell_type": "markdown",
   "id": "6c7d0e21",
   "metadata": {},
   "source": [
    "COn el enfoque basado en percentiles extremos, se detectaron 1043 outliers con consumos totales fuera de los rangos"
   ]
  },
  {
   "cell_type": "code",
   "execution_count": null,
   "id": "a8830165-1fb7-4901-bab7-80c5051caa30",
   "metadata": {},
   "outputs": [],
   "source": [
    "############### Método por diferencias sucesivas (series temporales)\n",
    "\n",
    "# --- Paso 1: Preparar el DataFrame ---\n",
    "# --- Paso 2: Calcular z_score y columnas auxiliares ---\n",
    "df['z_score'] = zscore(df['valor'])\n",
    "df['valor_shifted'] = df['valor'].shift(1)  # desplazamiento temporal\n",
    "df['diff'] = (df['valor'] - df['valor_shifted']).abs()  # diferencia absoluta entre valores consecutivos\n",
    "\n",
    "# --- Paso 3: Definir umbral como media + 3 * desviación estándar de la diferencia ---\n",
    "umbral = df['diff'].mean() + 3 * df['diff'].std()\n",
    "\n",
    "# --- Paso 4: Filtrar outliers por salto abrupto ---\n",
    "outliers_diff = df[df['diff'] > umbral]\n",
    "\n",
    "# --- Paso 5: Mostrar resumen de outliers detectados por diferencia temporal ---\n",
    "print(\"Outliers detectados por saltos abruptos (diferencia temporal):\")\n",
    "print(outliers_diff[['valor', 'z_score', 'valor_shifted', 'diff']].describe())\n"
   ]
  },
  {
   "cell_type": "code",
   "execution_count": null,
   "id": "2c8b64c6-abfc-4b11-81ed-952b455d6e5b",
   "metadata": {},
   "outputs": [],
   "source": [
    "################################# Visualización con Seaborn"
   ]
  },
  {
   "cell_type": "code",
   "execution_count": null,
   "id": "a02e81c1-a04a-45d2-92f7-a3e94ec8fd95",
   "metadata": {},
   "outputs": [],
   "source": [
    "import seaborn as sns\n",
    "import matplotlib.pyplot as plt\n",
    "import numpy as np\n",
    "import pandas as pd"
   ]
  },
  {
   "cell_type": "code",
   "execution_count": null,
   "id": "91214e6d-bbf3-4980-9185-3edcdb9e3900",
   "metadata": {},
   "outputs": [],
   "source": [
    "# Limpieza de nombres de columnas para evitar errores\n",
    "df_suministro.columns = df_suministro.columns.str.strip().str.lower()\n",
    "\n",
    "# Copia con columnas relevantes\n",
    "df_plot = df_suministro[['consumo_201001', 'consumo_201002', 'departamento']].dropna()\n",
    "\n",
    "# Gráfico de dispersión\n",
    "sns.scatterplot(data=df_plot, x='consumo_201001', y='consumo_201002', hue='departamento')\n",
    "plt.title(\"Dispersión de consumo enero vs febrero por departamento\")\n",
    "plt.xlabel(\"Consumo enero\")\n",
    "plt.ylabel(\"Consumo febrero\")\n",
    "plt.grid(True)\n",
    "plt.show()\n",
    "\n",
    "# Boxplot de consumo enero por departamento\n",
    "sns.boxplot(data=df_plot, x='departamento', y='consumo_201001')\n",
    "plt.title(\"Distribución de consumo enero por departamento\")\n",
    "plt.xticks(rotation=45)\n",
    "plt.grid(True)\n",
    "plt.show()\n",
    "\n"
   ]
  },
  {
   "cell_type": "code",
   "execution_count": null,
   "id": "d78b5062-ebc0-42a0-ba66-0cefc37cd6fc",
   "metadata": {},
   "outputs": [],
   "source": [
    "###########################  Detección multivariable con distancia de Mahalanobis"
   ]
  },
  {
   "cell_type": "code",
   "execution_count": null,
   "id": "276b12ae-2709-453d-b78a-87243a34cc98",
   "metadata": {},
   "outputs": [],
   "source": [
    "from scipy.spatial import distance\n",
    "from scipy.stats import chi2"
   ]
  },
  {
   "cell_type": "code",
   "execution_count": null,
   "id": "dc90c9f7-6765-4abe-a32d-4858398d4042",
   "metadata": {},
   "outputs": [],
   "source": [
    "# Selección de variables para análisis multivariado\n",
    "X = df_suministro[['consumo_201001', 'consumo_201002']].dropna()\n",
    "\n",
    "# Calcular media y matriz de covarianza\n",
    "mean_vec = X.mean().values\n",
    "cov_matrix = np.cov(X.values.T)\n",
    "inv_cov_matrix = np.linalg.inv(cov_matrix)\n",
    "\n",
    "# Función para calcular distancia de Mahalanobis\n",
    "def mahalanobis_distance(row, mean, inv_cov):\n",
    "    return distance.mahalanobis(row, mean, inv_cov)\n",
    "\n",
    "# Calcular la distancia para cada fila\n",
    "X['mahal_dist'] = X.apply(lambda row: mahalanobis_distance(row, mean_vec, inv_cov_matrix), axis=1)\n",
    "\n",
    "# Umbral chi-cuadrado con 2 grados de libertad (por 2 variables)\n",
    "umbral = np.sqrt(chi2.ppf(0.975, df=2))  # ≈ 2.4477\n",
    "\n",
    "# Clasificación de outliers\n",
    "X['outlier_mahal'] = X['mahal_dist'] > umbral\n",
    "\n",
    "# Visualización\n",
    "sns.scatterplot(data=X, x='consumo_201001', y='consumo_201002', hue='outlier_mahal', palette={True: 'red', False: 'blue'})\n",
    "plt.title(\"Outliers multivariables con distancia de Mahalanobis\")\n",
    "plt.xlabel(\"Consumo enero\")\n",
    "plt.ylabel(\"Consumo febrero\")\n",
    "plt.grid(True)\n",
    "plt.show()\n"
   ]
  },
  {
   "cell_type": "code",
   "execution_count": null,
   "id": "5eeb2e63-297b-4d72-90b9-50a6a14d829e",
   "metadata": {},
   "outputs": [],
   "source": [
    "############################## Metodos para Imputar valores Faltantes"
   ]
  },
  {
   "cell_type": "code",
   "execution_count": null,
   "id": "2fdd0dc2-8360-40a9-96fc-e0e4d0c25f90",
   "metadata": {},
   "outputs": [],
   "source": [
    "# librerias\n",
    "import numpy as np\n",
    "import pandas as pd\n",
    "import matplotlib.pyplot as plt\n",
    "import seaborn as sns"
   ]
  },
  {
   "cell_type": "code",
   "execution_count": null,
   "id": "142ddfb7-3367-4add-a749-83cb3dd5efa1",
   "metadata": {},
   "outputs": [],
   "source": [
    "df = df_suministro = pd.read_parquet(\"suministros.parquet\")"
   ]
  },
  {
   "cell_type": "code",
   "execution_count": null,
   "id": "2b9b5ce5-a301-45cc-9143-8e2d449363a6",
   "metadata": {},
   "outputs": [],
   "source": [
    "df.columns = df.columns.str.strip().str.lower()"
   ]
  },
  {
   "cell_type": "code",
   "execution_count": null,
   "id": "9bc178ab-5728-4afb-a321-08b82fa53e97",
   "metadata": {},
   "outputs": [],
   "source": [
    "# Ver nombres exactos de columnas luego de pasar a minúsculas\n",
    "print(df.columns.tolist())"
   ]
  },
  {
   "cell_type": "code",
   "execution_count": null,
   "id": "6746f488-6f1e-4602-a214-9903f864c57e",
   "metadata": {},
   "outputs": [],
   "source": [
    "# Seleccionar columnas y renombrar\n",
    "df_plot = df[['nro_servicio', 'consumo_201001']].copy()\n",
    "df_plot = df_plot.rename(columns={'nro_servicio': 'fecha', 'consumo_201001': 'valor'})\n",
    "\n",
    "# Gráfico de valores con posibles faltantes\n",
    "plt.figure(figsize=(12, 4))\n",
    "sns.lineplot(data=df_plot, x='fecha', y='valor', marker='o')\n",
    "plt.title(\"Valores con Datos Faltantes - consumo_201001\")\n",
    "plt.xlabel(\"NRO_SERVICIO\")\n",
    "plt.ylabel(\"Consumo\")\n",
    "plt.xticks(rotation=45)\n",
    "plt.tight_layout()\n",
    "plt.show()"
   ]
  },
  {
   "cell_type": "code",
   "execution_count": null,
   "id": "3adcfe87-d0bb-4db6-b7f1-83ab4798f6f5",
   "metadata": {},
   "outputs": [],
   "source": [
    "# 2. Imputación con la media (promedio)\n",
    "df_media = df[['nro_servicio', 'consumo_201001']].copy()\n",
    "# Crear copia de df_plot para imputación con la media\n",
    "df_media = df_plot.copy()\n",
    "\n",
    "# Calcular la media sin contar los valores NaN\n",
    "media = df_media['valor'].mean()\n",
    "\n",
    "# Reemplazar los NaN con la media\n",
    "df_media['valor'] = df_media['valor'].fillna(media)\n"
   ]
  },
  {
   "cell_type": "code",
   "execution_count": null,
   "id": "f71b21e2-f7af-4824-b882-92c2846df7d6",
   "metadata": {},
   "outputs": [],
   "source": [
    "# Gráfico de la serie imputada con la media\n",
    "plt.figure(figsize=(12, 4))\n",
    "sns.lineplot(data=df_media, x='fecha', y='valor', marker='o')\n",
    "plt.title(\"Valores con Datos Faltantes - consumo_201001\")\n",
    "plt.xlabel(\"NRO_SERVICIO\")\n",
    "plt.ylabel(\"Consumo (imputado)\")\n",
    "plt.tight_layout()\n",
    "plt.show()"
   ]
  },
  {
   "cell_type": "code",
   "execution_count": null,
   "id": "0f9b074e-454a-438d-9e6e-1b688e6dd82f",
   "metadata": {},
   "outputs": [],
   "source": [
    "# 3. Imputación con la media +/- desviación estándar (valor aleatorio)\n",
    "df_std = df_plot.copy()\n",
    "\n",
    "# Calcular media y desviación estándar de los valores no nulos\n",
    "mean = df_std['valor'].mean()\n",
    "std = df_std['valor'].std()\n",
    "\n",
    "# Aplicar imputación aleatoria dentro del rango [mean - std, mean + std]\n",
    "df_std['valor'] = df_std['valor'].apply(\n",
    "    lambda x: x if not pd.isna(x) else np.random.uniform(mean - std, mean + std)\n",
    ")"
   ]
  },
  {
   "cell_type": "code",
   "execution_count": null,
   "id": "c341ed18-6546-4972-8a97-b562bc2b549b",
   "metadata": {},
   "outputs": [],
   "source": [
    "# Visualización\n",
    "plt.figure(figsize=(12, 4))\n",
    "sns.lineplot(data=df_std, x='fecha', y='valor', marker='o')\n",
    "plt.title(\"Valores imputados con media ± desviación estándar - consumo_201001\")\n",
    "plt.xlabel(\"NRO_SERVICIO\")\n",
    "plt.ylabel(\"Consumo (imputado aleatoriamente)\")\n",
    "plt.xticks(rotation=90)\n",
    "plt.tight_layout()\n",
    "plt.show()"
   ]
  },
  {
   "cell_type": "code",
   "execution_count": null,
   "id": "e9f0e213-7a56-477f-983c-491ca031a067",
   "metadata": {},
   "outputs": [],
   "source": [
    "# 4. Imputación personalizada: promedio entre anterior y posterior\n",
    "df_interp = df_plot.copy()\n",
    "\n",
    "# Aplicar imputación fila por fila\n",
    "for i in range(len(df_interp)):\n",
    "    if pd.isna(df_interp.iloc[i]['valor']):\n",
    "        prev_val = df_interp.iloc[i - 1]['valor'] if i > 0 else np.nan\n",
    "        next_val = df_interp.iloc[i + 1]['valor'] if i < len(df_interp) - 1 else np.nan\n",
    "\n",
    "        if not np.isnan(prev_val) and not np.isnan(next_val):\n",
    "            df_interp.at[i, 'valor'] = (prev_val + next_val) / 2\n",
    "        else:\n",
    "            df_interp.at[i, 'valor'] = 0  # Si uno de los dos no existe o es NaN\n"
   ]
  },
  {
   "cell_type": "code",
   "execution_count": null,
   "id": "e7209c07-19da-4716-8c61-61314572c727",
   "metadata": {},
   "outputs": [],
   "source": [
    "# Visualización\n",
    "plt.figure(figsize=(12, 4))\n",
    "sns.lineplot(data=df_interp, x='fecha', y='valor', marker='o')\n",
    "plt.title(\"Valores imputados por promedio entre anterior y posterior - consumo_201001\")\n",
    "plt.xlabel(\"NRO_SERVICIO\")\n",
    "plt.ylabel(\"Consumo (interpolado manual)\")\n",
    "plt.tight_layout()\n",
    "plt.show()\n"
   ]
  },
  {
   "cell_type": "code",
   "execution_count": null,
   "id": "226e88ca-3f6c-41b2-807d-6afa2819a2f1",
   "metadata": {},
   "outputs": [],
   "source": [
    "# 5. Imputación con Promedios Móviles (ventana de 6 posiciones)\n",
    "df_movavg = df_plot.copy()\n",
    "\n",
    "# Aplicar imputación con promedio móvil (rolling mean)\n",
    "df_movavg['valor'] = df_movavg['valor'].fillna(\n",
    "    df_movavg['valor'].rolling(window=6, min_periods=1).mean()\n",
    ")"
   ]
  },
  {
   "cell_type": "code",
   "execution_count": null,
   "id": "3c0d5e86-f0db-475c-8c0d-e32831fff317",
   "metadata": {},
   "outputs": [],
   "source": [
    "# Visualización\n",
    "plt.figure(figsize=(12, 4))\n",
    "sns.lineplot(data=df_movavg, x='fecha', y='valor', marker='o')\n",
    "plt.title(\"Valores imputados con promedio móvil (ventana = 6) - consumo_201001\")\n",
    "plt.xlabel(\"NRO_SERVICIO\")\n",
    "plt.ylabel(\"Consumo (rolling mean)\")\n",
    "plt.tight_layout()\n",
    "plt.show()"
   ]
  },
  {
   "cell_type": "code",
   "execution_count": null,
   "id": "89e80a0a-2539-4c19-9180-5f8912bebff8",
   "metadata": {},
   "outputs": [],
   "source": [
    "# 6. Imputación con técnicas de propagación\n",
    "df_ffill = df_plot.copy()\n",
    "df_ffill['valor'] = df_ffill['valor'].fillna(method='ffill')  # Hacia adelante\n",
    "\n",
    "df_bfill = df_plot.copy()\n",
    "df_bfill['valor'] = df_bfill['valor'].fillna(method='bfill')  # Hacia atrás"
   ]
  },
  {
   "cell_type": "code",
   "execution_count": null,
   "id": "91005e30-e51a-4853-80ef-a2a4c54ed78e",
   "metadata": {},
   "outputs": [],
   "source": [
    "# Visualización\n",
    "plt.figure(figsize=(12, 4))\n",
    "sns.lineplot(data=df_bfill, x='fecha', y='valor', marker='o')\n",
    "plt.title(\"Valores imputados con propagación hacia atrás (bfill) - consumo_201001\")\n",
    "plt.xlabel(\"NRO_SERVICIO\")\n",
    "plt.ylabel(\"Consumo (bfill)\")\n",
    "plt.xticks(rotation=90)\n",
    "plt.tight_layout()\n",
    "plt.show()\n"
   ]
  },
  {
   "cell_type": "code",
   "execution_count": null,
   "id": "5562442e-e10e-47d2-a750-654ebbd1e169",
   "metadata": {},
   "outputs": [],
   "source": [
    "# 7. Imputación con un valor constante (por ejemplo, 0)\n",
    "df_const = df_plot.copy()\n",
    "df_const['valor'] = df_const['valor'].fillna(0)"
   ]
  },
  {
   "cell_type": "code",
   "execution_count": null,
   "id": "77aea83b-619f-4a04-9282-59a2ee641865",
   "metadata": {},
   "outputs": [],
   "source": [
    "# Visualización\n",
    "plt.figure(figsize=(12, 4))\n",
    "sns.lineplot(data=df_const, x='fecha', y='valor', marker='o')\n",
    "plt.title(\"Valores imputados con valor constante (0) - consumo_201001\")\n",
    "plt.xlabel(\"NRO_SERVICIO\")\n",
    "plt.ylabel(\"Consumo (constante)\")\n",
    "plt.tight_layout()\n",
    "plt.show()\n"
   ]
  },
  {
   "cell_type": "code",
   "execution_count": null,
   "id": "561f8a81-a4bf-461c-a7d4-e6c3ec924fbf",
   "metadata": {},
   "outputs": [],
   "source": [
    "# Comparación visual de los métodos\n",
    "# Crear figura con subplots 4x2 (8 espacios, usaremos 7)\n",
    "fig, axes = plt.subplots(4, 2, figsize=(18, 16), sharex=True)\n",
    "\n",
    "# Lista de imputaciones y sus nombres\n",
    "methods = [df_media, df_std, df_interp, df_movavg, df_ffill, df_bfill, df_const]\n",
    "titles = ['Media', 'Media ± STD', 'Interpolación', 'Prom. Móvil', 'Forward Fill', 'Backward Fill', 'Valor Constante']\n",
    "\n",
    "# Graficar cada método junto a la serie original\n",
    "for ax, df_met, title in zip(axes.flat, methods, titles):\n",
    "    sns.lineplot(data=df_plot, x='fecha', y='valor', label='Original', ax=ax, marker='o')\n",
    "    sns.lineplot(data=df_met, x='fecha', y='valor', label=title, ax=ax)\n",
    "    ax.set_title(f\"Imputación: {title}\")\n",
    "    ax.legend()\n",
    "\n",
    "plt.tight_layout()\n",
    "plt.show()\n",
    "\n"
   ]
  },
  {
   "cell_type": "code",
   "execution_count": null,
   "id": "90299643-b10e-4e88-9bf6-8dfd003dff10",
   "metadata": {},
   "outputs": [],
   "source": [
    "################################################# Normalización de Datos #################################"
   ]
  },
  {
   "cell_type": "code",
   "execution_count": null,
   "id": "2c8abedd-dad1-4d3d-baa4-0c2b746fa22d",
   "metadata": {},
   "outputs": [],
   "source": [
    "# librerias\n",
    "import numpy as np\n",
    "import pandas as pd\n",
    "import matplotlib.pyplot as plt\n",
    "import seaborn as sns"
   ]
  },
  {
   "cell_type": "code",
   "execution_count": null,
   "id": "b03e86a4-5bd6-40fb-bbe7-cd4590467bb8",
   "metadata": {},
   "outputs": [],
   "source": [
    "df= df_plot.copy()"
   ]
  },
  {
   "cell_type": "code",
   "execution_count": null,
   "id": "d559f2ea-12aa-47a9-8aaa-21fcfec6ba23",
   "metadata": {},
   "outputs": [],
   "source": [
    "df.describe()"
   ]
  },
  {
   "cell_type": "code",
   "execution_count": null,
   "id": "658406bd-3a56-4509-bfff-a2fc7cf5e2b9",
   "metadata": {},
   "outputs": [],
   "source": [
    "# 2. Normalización Min-Max: escala cada valor entre 0 y 1\n",
    "df_minmax = df.copy()\n",
    "for col in df_minmax.columns:\n",
    "    min_val = df_minmax[col].min()\n",
    "    max_val = df_minmax[col].max()\n",
    "    df_minmax[col] = (df_minmax[col] - min_val) / (max_val - min_val)"
   ]
  },
  {
   "cell_type": "code",
   "execution_count": null,
   "id": "cdee53a1-b243-4624-ba3e-61930f366828",
   "metadata": {},
   "outputs": [],
   "source": [
    "df_minmax.describe()"
   ]
  },
  {
   "cell_type": "code",
   "execution_count": null,
   "id": "8e149c74-dcf4-4788-872c-94a0ecb1ee4b",
   "metadata": {},
   "outputs": [],
   "source": [
    "# 3. Z-Score\n",
    "df_zscore = df.copy()\n",
    "for col in df_zscore.columns:\n",
    "    mean = df_zscore[col].mean()\n",
    "    std = df_zscore[col].std()\n",
    "    df_zscore[col] = (df_zscore[col] - mean) / std"
   ]
  },
  {
   "cell_type": "code",
   "execution_count": null,
   "id": "9d5fbf5d-0345-469e-9f60-322ffd2a0b38",
   "metadata": {},
   "outputs": [],
   "source": [
    "df_zscore.describe()"
   ]
  },
  {
   "cell_type": "code",
   "execution_count": null,
   "id": "26aae6d2-18b3-42be-aedd-6776c03e6fc7",
   "metadata": {},
   "outputs": [],
   "source": [
    "# 4. Escalamiento Six Sigma: media 0, rango de ±3σ → [0,1]\n",
    "df_sixsigma = df.copy()\n",
    "for col in df_sixsigma.columns:\n",
    "    mean = df_sixsigma[col].mean()\n",
    "    std = df_sixsigma[col].std()\n",
    "    df_sixsigma[col] = (df_sixsigma[col] - mean + 3*std) / (6*std)"
   ]
  },
  {
   "cell_type": "code",
   "execution_count": null,
   "id": "226c00fa-df40-4b00-a72a-8de03436a045",
   "metadata": {},
   "outputs": [],
   "source": [
    "df_sixsigma.describe()"
   ]
  },
  {
   "cell_type": "code",
   "execution_count": null,
   "id": "eeabfcc6-5fb5-4faa-bf62-e4ab7a65ab5b",
   "metadata": {},
   "outputs": [],
   "source": [
    "# 5. Escalado robusto con IQR (percentil 25-75)\n",
    "df_robust = df.copy()\n",
    "for col in df_robust.columns:\n",
    "    q1 = df_robust[col].quantile(0.25)\n",
    "    q3 = df_robust[col].quantile(0.75)\n",
    "    iqr = q3 - q1\n",
    "    df_robust[col] = (df_robust[col] - q1) / iqr"
   ]
  },
  {
   "cell_type": "code",
   "execution_count": null,
   "id": "8e0e0744-de5a-43db-ad20-9d92ddb1580a",
   "metadata": {},
   "outputs": [],
   "source": [
    "df_robust.describe()"
   ]
  },
  {
   "cell_type": "code",
   "execution_count": null,
   "id": "7e16cf21-4a60-472d-889e-6b1ec7bcf2e7",
   "metadata": {},
   "outputs": [],
   "source": [
    "# 6. Escalado logarítmico: útil para datos con alta dispersión positiva\n",
    "df_log = df.copy()\n",
    "for col in df_log.columns:\n",
    "    min_val = df_log[col].min()\n",
    "    df_log[col] = np.log1p(df_log[col] - min_val + 1)  # log(x - min + 1)"
   ]
  },
  {
   "cell_type": "code",
   "execution_count": null,
   "id": "02c0c879-2095-4464-88e8-0ec282eeeecf",
   "metadata": {},
   "outputs": [],
   "source": [
    "df_log.describe()"
   ]
  },
  {
   "cell_type": "code",
   "execution_count": null,
   "id": "778a6249-633d-4d5c-8716-0545332fa9bb",
   "metadata": {},
   "outputs": [],
   "source": [
    "# 7. MaxAbs Scaling: divide por el valor absoluto máximo\n",
    "df_maxabs = df.copy()\n",
    "for col in df_maxabs.columns:\n",
    "    max_abs = np.abs(df_maxabs[col]).max()\n",
    "    df_maxabs[col] = df_maxabs[col] / max_abs"
   ]
  },
  {
   "cell_type": "code",
   "execution_count": null,
   "id": "8faf1a0b-d243-40af-9a94-74c82d00a4aa",
   "metadata": {},
   "outputs": [],
   "source": [
    "df_maxabs.describe()"
   ]
  },
  {
   "cell_type": "code",
   "execution_count": null,
   "id": "2c26204f-e268-4d2b-bad4-3e636b05c790",
   "metadata": {},
   "outputs": [],
   "source": [
    "# 8. Escalamiento Six Sigma basado en limites\n",
    "df_sixsigma = df.copy()\n",
    "df_clipped = df.copy()\n",
    "\n",
    "# Escalamiento tipo Six Sigma y clipping\n",
    "for col in df.columns:\n",
    "    mean = df[col].mean()\n",
    "    std = df[col].std()\n",
    "\n",
    "    # Escalamiento normal al rango [0,1] usando el rango de 6σ\n",
    "    df_sixsigma[col] = (df[col] - mean + 3 * std) / (6 * std)\n",
    "\n",
    "    # Límite inferior y superior (3σ)\n",
    "    lower_limit = mean - 3 * std\n",
    "    upper_limit = mean + 3 * std\n",
    "\n",
    "    # Clipping: sustituir valores fuera de ±3σ con los límites\n",
    "    df_clipped[col] = df[col].clip(lower=lower_limit, upper=upper_limit)"
   ]
  },
  {
   "cell_type": "code",
   "execution_count": null,
   "id": "45bbac9d-0c9e-4793-a1b9-c9b4ff5ce7c5",
   "metadata": {},
   "outputs": [],
   "source": [
    "# Comparar distribuciones originales vs normalizadas\n",
    "fig, axes = plt.subplots(3, 8, figsize=(25, 10))\n",
    "cols = df.columns\n",
    "\n",
    "for i, col in enumerate(cols):\n",
    "    sns.histplot(df[col], ax=axes[i][0], kde=True, color=\"#AEC6CF\")\n",
    "    axes[i][0].set_title(f\"{col} - Original\")\n",
    "    \n",
    "    sns.histplot(df_minmax[col], ax=axes[i][1], kde=True, color=\"#FFB347\")\n",
    "    axes[i][1].set_title(f\"{col} - MinMax\")\n",
    "    \n",
    "    sns.histplot(df_zscore[col], ax=axes[i][2], kde=True, color=\"#77DD77\")\n",
    "    axes[i][2].set_title(f\"{col} - Z-Score\")\n",
    "    \n",
    "    sns.histplot(df_sixsigma[col], ax=axes[i][3], kde=True, color=\"#FF6961\")\n",
    "    axes[i][3].set_title(f\"{col} - sixsigma \")\n",
    "    \n",
    "    sns.histplot(df_robust[col], ax=axes[i][4], kde=True, color=\"#FDFD96\")\n",
    "    axes[i][4].set_title(f\"{col} - IQR \")\n",
    "    \n",
    "    sns.histplot(df_log[col], ax=axes[i][5], kde=True, color=\"#CBAACB\")\n",
    "    axes[i][5].set_title(f\"{col} - logarítmico \")\n",
    "    \n",
    "    sns.histplot(df_maxabs[col], ax=axes[i][6], kde=True, color=\"#B39EB5\")\n",
    "    axes[i][6].set_title(f\"{col} - MaxAbs Scaling \")\n",
    "    \n",
    "    sns.histplot(df_maxabs[col], ax=axes[i][7], kde=True, color=\"#FF6961\")\n",
    "    axes[i][7].set_title(f\"{col} - sixsigma limites \")\n",
    "\n",
    "\n",
    "plt.tight_layout()\n",
    "plt.show()"
   ]
  },
  {
   "cell_type": "code",
   "execution_count": null,
   "id": "d9d2d7bd-045e-47df-a3d4-f67c87f643cd",
   "metadata": {},
   "outputs": [],
   "source": [
    "#| Técnica       | Uso Principal                          | Sensible a outliers |\n",
    "#| ------------- | -------------------------------------- | ------------------- |\n",
    "#| Min-Max       | Escala uniforme \\[0, 1]                |  Sí                |\n",
    "#| Z-Score       | Estandarización clásica                |  Sí                |\n",
    "#| Six Sigma     | Datos bajo control de calidad          |  Sí                |\n",
    "#| IQR (Robusto) | Datos con outliers extremos            |  No                |\n",
    "#| Logarítmico   | Datos sesgados a la derecha            |  Sí                |"
   ]
  }
 ],
 "metadata": {
  "kernelspec": {
   "display_name": "Python 3 (ipykernel)",
   "language": "python",
   "name": "python3"
  },
  "language_info": {
   "codemirror_mode": {
    "name": "ipython",
    "version": 3
   },
   "file_extension": ".py",
   "mimetype": "text/x-python",
   "name": "python",
   "nbconvert_exporter": "python",
   "pygments_lexer": "ipython3",
   "version": "3.11.13"
  }
 },
 "nbformat": 4,
 "nbformat_minor": 5
}
